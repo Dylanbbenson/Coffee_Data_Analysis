{
 "cells": [
  {
   "cell_type": "markdown",
   "id": "562ccf4e-2318-4435-9984-755b19c424fa",
   "metadata": {},
   "source": [
    "Setup"
   ]
  },
  {
   "cell_type": "code",
   "execution_count": null,
   "id": "3e4ca91e-c35f-48f8-9938-4aa011740efd",
   "metadata": {
    "tags": []
   },
   "outputs": [],
   "source": [
    "import pandas as pd\n",
    "import matplotlib.pyplot as plt\n",
    "import numpy as np\n",
    "import seaborn as sns"
   ]
  },
  {
   "cell_type": "code",
   "execution_count": null,
   "id": "277903ac-45be-499d-acd3-72f54634b5ff",
   "metadata": {
    "tags": []
   },
   "outputs": [],
   "source": [
    "#define directory paths\n",
    "\n",
    "df_paths=[\n",
    "    \"./data/domestic-consumption.csv\",\n",
    "    \"./data/exports-calendar-year.csv\",\n",
    "    \"./data/exports-crop-year.csv\",\n",
    "    \"./data/gross-opening-stocks.csv\",\n",
    "    \"./data/total-production.csv\"\n",
    "]"
   ]
  },
  {
   "cell_type": "markdown",
   "id": "31d71350-f1ac-4324-a111-ad5bd06cc9be",
   "metadata": {},
   "source": [
    "Clean and prepare the data"
   ]
  },
  {
   "cell_type": "code",
   "execution_count": null,
   "id": "ddf0d4ac-3433-4caf-8849-dcb333c5fcc8",
   "metadata": {
    "tags": []
   },
   "outputs": [],
   "source": [
    "dfs=[pd.read_csv(df_path) for df_path in df_paths]"
   ]
  },
  {
   "cell_type": "code",
   "execution_count": null,
   "id": "3cb56cd8-b428-4b06-ba04-d6a65684024d",
   "metadata": {
    "tags": []
   },
   "outputs": [],
   "source": [
    "#process data 2\n",
    "#making mean value of every df columns and attaching it to country\n",
    "\n",
    "def get_means(df):\n",
    "    df=df.copy()\n",
    "    countries=df[df.columns[0]]\n",
    "    mean=df.mean(axis=1)\n",
    "    df=pd.concat([countries,mean],axis=1)\n",
    "    df.columns=['country',countries.name]\n",
    "    return df\n",
    "\n"
   ]
  },
  {
   "cell_type": "code",
   "execution_count": null,
   "id": "32cb56dc-bea4-4050-b119-bc9e7e9dbab0",
   "metadata": {
    "tags": []
   },
   "outputs": [],
   "source": [
    "#process data 2\n",
    "def make_df(dfs):\n",
    "    \n",
    "    # Process all DataFrames\n",
    "    processed_dfs = []\n",
    "    \n",
    "    for df in dfs:\n",
    "        processed_dfs.append(get_means(df))\n",
    "        \n",
    "    # Merge DataFrames\n",
    "    df = processed_dfs[0]\n",
    "    \n",
    "    for i in range(1, len(processed_dfs)):\n",
    "        df = df.merge(processed_dfs[i], on='country')\n",
    "    \n",
    "    return df\n",
    "\n",
    "data=make_df(dfs)"
   ]
  },
  {
   "cell_type": "code",
   "execution_count": null,
   "id": "315fa9b7-8de2-44ca-9cd2-d8ac0999ca91",
   "metadata": {
    "tags": []
   },
   "outputs": [],
   "source": [
    "##rename columns and output to same csv (already done, doesn't need running)\n",
    "#df = df.rename(columns={'1990/91': '1990', '1991/92': '1991', '1992/93': '1992', '1993/94': '1993', '1994/95': '1994', '1995/96': '1995', '1996/97': '1996', '1997/98': '1997', '1998/99': '1998', '1999/00': '1999', '2000/01': '2000', '2001/02': '2001', '2002/03': '2002', '2003/04': '2003', '2004/05': '2004', '2005/06': '2005', '2006/07': '2006', '2007/08': '2007', '2008/09': '2008', '2009/10': '2009', '2010/11': '2010', '2011/12': '2011', '2012/13': '2012', '2013/14': '2013', '2014/15': '2014', '2015/16': '2015', '2016/17': '2016', '2017/18': '2017', '2018/19': '2018', '2019/20': '2019'})\n",
    "#df.to_csv('Domestic_Coffee_Consumption.csv')"
   ]
  },
  {
   "cell_type": "code",
   "execution_count": null,
   "id": "0b9a6dad-6658-4bf2-8aa8-47a02a7db2e2",
   "metadata": {
    "tags": []
   },
   "outputs": [],
   "source": [
    "#Ensure no null values exist in our data\n",
    "data.isna().sum() #returns False for all\n",
    "data = data.dropna()"
   ]
  },
  {
   "cell_type": "code",
   "execution_count": null,
   "id": "12ae7294-b93d-4012-b666-ab5fd46f96d2",
   "metadata": {
    "tags": []
   },
   "outputs": [],
   "source": [
    "#Ensure no duplicate rows exist in our data\n",
    "data.loc[data.duplicated()] #Nothing returned\n",
    "data = data.drop_duplicates()"
   ]
  },
  {
   "cell_type": "code",
   "execution_count": null,
   "id": "93225771-3b6a-4059-9471-c882b8e5de0f",
   "metadata": {
    "tags": []
   },
   "outputs": [],
   "source": [
    "#reset data frame and index, sorting by domestic consumption\n",
    "data = data.sort_values(by='domestic_consumption', ascending=False)\n",
    "data = data.reset_index(drop=True)"
   ]
  },
  {
   "cell_type": "markdown",
   "id": "65acdce5-638d-46ea-be82-b8818da31367",
   "metadata": {},
   "source": [
    "Analysis and Visualization"
   ]
  },
  {
   "cell_type": "code",
   "execution_count": null,
   "id": "265a9ca1-7dad-4465-86ab-3c42fc983174",
   "metadata": {
    "tags": []
   },
   "outputs": [],
   "source": [
    "#Create bar graph of top ten Countries by coffee consumption\n",
    "top_ten_consume = data.head(10)\n",
    "top_ten_consume = top_ten_consume.plot.bar(x='country', y = 'domestic_consumption', rot=50, title='Domestic Consumption by Country')\n",
    "top_ten_consume.set_ylabel('Domestic Consumption')"
   ]
  },
  {
   "cell_type": "code",
   "execution_count": null,
   "id": "c5ba4ae8-e92c-41e5-a447-f13f7285603f",
   "metadata": {
    "tags": []
   },
   "outputs": [],
   "source": [
    "#Create bar graph of top ten Countries by coffee exports\n",
    "data = data.sort_values(by='exports', ascending=False)\n",
    "top_ten_export = data.head(10)\n",
    "top_ten_export = top_ten_export.plot.bar(x='country', y = 'exports', rot=50, title='Coffee Exported by Country')\n",
    "top_ten_export.set_ylabel('Coffee Exports')"
   ]
  },
  {
   "cell_type": "code",
   "execution_count": null,
   "id": "e8de980b-3ae5-431e-b8e9-e0d6d3cb0946",
   "metadata": {
    "tags": []
   },
   "outputs": [],
   "source": [
    "#Drop the outlier in the data (Brazil)\n",
    "data = data.drop(data.query(\"country=='Brazil'\").index)"
   ]
  },
  {
   "cell_type": "code",
   "execution_count": null,
   "id": "2aab1295-c8b0-4c56-8d34-e0393e934642",
   "metadata": {
    "tags": []
   },
   "outputs": [],
   "source": [
    "#Create bar graph of top ten Countries by coffee consumption\n",
    "top_ten_consume = data.head(10)\n",
    "top_ten_consume = top_ten_consume.plot.bar(x='country', y = 'domestic_consumption', rot=50, title='Domestic Consumption by Country')\n",
    "top_ten_consume.set_ylabel('Domestic Consumption')"
   ]
  },
  {
   "cell_type": "code",
   "execution_count": null,
   "id": "fd135f30-01f1-4411-934e-3fe772d52fd4",
   "metadata": {
    "tags": []
   },
   "outputs": [],
   "source": [
    "#Create bar graph of top ten Countries by coffee exports\n",
    "data = data.sort_values(by='exports', ascending=False)\n",
    "top_ten_export = data.head(10)\n",
    "top_ten_export = top_ten_export.plot.bar(x='country', y = 'exports', rot=50, title='Coffee Exported by Country')\n",
    "top_ten_export.set_ylabel('Coffee Exports')"
   ]
  },
  {
   "cell_type": "code",
   "execution_count": null,
   "id": "d0678811-9671-4df3-931f-00a138e1a8cc",
   "metadata": {
    "tags": []
   },
   "outputs": [],
   "source": [
    "#Create new dataframe off only numeric fields, create correlation map\n",
    "stats = data[['exports', 'domestic_consumption', 'exports_crop_year', 'gross_opening_stocks', 'total_production']]\n",
    "stats.corr()"
   ]
  },
  {
   "cell_type": "code",
   "execution_count": null,
   "id": "648e6faa-d53a-4c47-9ef6-6ede89bc5a71",
   "metadata": {},
   "outputs": [],
   "source": [
    "#Create heatmap of correlated data\n",
    "sns.set_theme(style=\"white\")\n",
    "corr = stats.corr(method = 'pearson',  # The method of correlation\n",
    "                  min_periods = 1 )\n",
    "corr.style.background_gradient(cmap='coolwarm')\n",
    "plt.matshow(corr)"
   ]
  },
  {
   "cell_type": "code",
   "execution_count": null,
   "id": "a907ddb9-a162-4a45-b967-0b56076ee3b1",
   "metadata": {
    "tags": []
   },
   "outputs": [],
   "source": [
    "#Scatter plot comparing domestic consumption x exports\n",
    "data.plot(kind='scatter', x='domestic_consumption', y='exports', title='Country Domestic Consumption x Exports')"
   ]
  },
  {
   "cell_type": "code",
   "execution_count": null,
   "id": "6d7a98e6-8928-4ec7-86b2-b5bde5e113a0",
   "metadata": {
    "tags": []
   },
   "outputs": [],
   "source": [
    "#Create a grid of pairplots between domestic consumption, exports, and production\n",
    "sns.pairplot(data, vars=['domestic_consumption', 'exports', 'total_production'])\n",
    "plt.show()"
   ]
  },
  {
   "cell_type": "code",
   "execution_count": null,
   "id": "d09a8f89-d7af-4f31-acff-79243e6319dd",
   "metadata": {
    "tags": []
   },
   "outputs": [],
   "source": [
    "#Read in new data file\n",
    "df = pd.read_csv('Domestic_Coffee_Consumption.csv')\n",
    "df.head(10)"
   ]
  },
  {
   "cell_type": "code",
   "execution_count": null,
   "id": "400b0bd0-99a2-48d0-83ce-0480d3750c19",
   "metadata": {},
   "outputs": [],
   "source": [
    "#Transpose the data frame\n",
    "pivot = df.transpose()\n",
    "\n",
    "#rename columns to row 1\n",
    "pivot.columns = pivot.iloc[1]\n",
    "\n",
    "#drop first two rows\n",
    "pivot = pivot.iloc[3:]\n",
    "\n",
    "#drop unnecessary row\n",
    "pivot = pivot.drop('Total_domestic_consumption')\n",
    "\n",
    "#rename index\n",
    "pivot.index.names = ['Year']\n",
    "\n",
    "#Drop the outlier in the data (Brazil)\n",
    "pivot.drop('Brazil', axis=1, inplace=True) \n",
    "\n",
    "pivot.plot(title='Coffee Consumption over Time in Various Countries')"
   ]
  },
  {
   "cell_type": "code",
   "execution_count": null,
   "id": "e5f8a9a2-1f4f-408d-8fc9-8f057fc3935c",
   "metadata": {
    "tags": []
   },
   "outputs": [],
   "source": [
    "#Create new dataframe of coffee types, clean data a bit\n",
    "types = df['Coffee type']\n",
    "types = types.replace({'Robusta/Arabica':'Both'})\n",
    "types = types.replace({'Arabica/Robusta':'Both'})\n",
    "pie = types.value_counts()"
   ]
  },
  {
   "cell_type": "code",
   "execution_count": null,
   "id": "b0525fe7-04f1-44b5-b254-92fae4390c64",
   "metadata": {
    "tags": []
   },
   "outputs": [],
   "source": [
    "# Defining colors for the pie chart\n",
    "colors = ['sienna', 'peru', 'cornsilk']\n",
    "  \n",
    "# Define the ratio of gap of each fragment in a tuple\n",
    "explode = (0.05, 0.05, 0.05)\n",
    "\n",
    "#Create pie chart of coffee types\n",
    "pie.plot(kind='pie', title=\"Total Coffee Consumed by Type\", autopct='%1.0f%%', colors=colors, explode=explode)"
   ]
  },
  {
   "cell_type": "code",
   "execution_count": null,
   "id": "262b50f2-21d5-4ad8-8728-1affb8246d09",
   "metadata": {
    "tags": []
   },
   "outputs": [],
   "source": []
  },
  {
   "cell_type": "code",
   "execution_count": null,
   "id": "ec89ecfb-d72f-425b-baa9-f6bb6de4d836",
   "metadata": {
    "tags": []
   },
   "outputs": [],
   "source": []
  },
  {
   "cell_type": "code",
   "execution_count": null,
   "id": "195193af-19e0-4257-a40c-63adc1be278c",
   "metadata": {
    "tags": []
   },
   "outputs": [],
   "source": [
    "#Create Brazil dataframe with just Brazil data\n",
    "Brazil = pivot['Brazil']\n",
    "Brazil"
   ]
  },
  {
   "cell_type": "code",
   "execution_count": null,
   "id": "1c5aec1b-c613-469b-8e98-a7d687b7c294",
   "metadata": {
    "tags": []
   },
   "outputs": [],
   "source": [
    "#Create line graph of Brazilian coffee consumption over time.\n",
    "sns.set(rc={\"figure.figsize\":(40, 10)})\n",
    "scatter = sns.lineplot(data=pivot, x='Year', y='Brazil')\n",
    "scatter.set_title('Brazilian Coffee Consumption Over Time', fontdict={'size': 30, 'weight': 'bold'})\n",
    "scatter.set_xlabel('Year', fontdict={'size': 15})\n",
    "scatter.set_ylabel('Coffee Consumed (billion kg)', fontdict={'size': 15})"
   ]
  },
  {
   "cell_type": "code",
   "execution_count": null,
   "id": "c101508f-7bc6-4f31-a7b1-43981d03ab00",
   "metadata": {
    "tags": []
   },
   "outputs": [],
   "source": [
    "Brazil"
   ]
  },
  {
   "cell_type": "code",
   "execution_count": null,
   "id": "d5e3fb2a-e671-45a2-919d-d3c5be7ffaef",
   "metadata": {
    "tags": []
   },
   "outputs": [],
   "source": [
    "#Read in new data file\n",
    "df = pd.read_csv('./data/total-production.csv')\n",
    "df.head(10)"
   ]
  },
  {
   "cell_type": "code",
   "execution_count": null,
   "id": "440d5fdf-b3f2-4f56-9f5f-15a30950e031",
   "metadata": {
    "tags": []
   },
   "outputs": [],
   "source": [
    "df = pd.read_csv('./data/retail-prices.csv')\n",
    "df"
   ]
  },
  {
   "cell_type": "code",
   "execution_count": null,
   "id": "9671ec72-f759-4a2e-94c0-fb75b33528cf",
   "metadata": {
    "tags": []
   },
   "outputs": [],
   "source": [
    "#Transpose the data frame\n",
    "pivot = df.transpose()\n",
    "\n",
    "#rename columns to row 1\n",
    "pivot.columns = pivot.iloc[0]\n",
    "\n",
    "#drop first two rows\n",
    "pivot = pivot.iloc[1:]\n",
    "\n",
    "#rename index\n",
    "pivot.index.names = ['Year']\n",
    "\n",
    "pivot.plot(title='Retail Price of Coffee over Time in Various Countries')"
   ]
  },
  {
   "cell_type": "code",
   "execution_count": null,
   "id": "dfe138d6-ac36-4614-902f-c1bd516ec708",
   "metadata": {},
   "outputs": [],
   "source": []
  }
 ],
 "metadata": {
  "kernelspec": {
   "display_name": "Python 3 (ipykernel)",
   "language": "python",
   "name": "python3"
  },
  "language_info": {
   "codemirror_mode": {
    "name": "ipython",
    "version": 3
   },
   "file_extension": ".py",
   "mimetype": "text/x-python",
   "name": "python",
   "nbconvert_exporter": "python",
   "pygments_lexer": "ipython3",
   "version": "3.10.6"
  }
 },
 "nbformat": 4,
 "nbformat_minor": 5
}
